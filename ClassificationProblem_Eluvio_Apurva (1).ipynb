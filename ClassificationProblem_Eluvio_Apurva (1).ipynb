{
  "nbformat": 4,
  "nbformat_minor": 0,
  "metadata": {
    "colab": {
      "name": "ClassificationProblem_Eluvio_Apurva.ipynb",
      "provenance": [],
      "collapsed_sections": [],
      "toc_visible": true
    },
    "kernelspec": {
      "name": "python3",
      "display_name": "Python 3"
    },
    "language_info": {
      "name": "python"
    }
  },
  "cells": [
    {
      "cell_type": "markdown",
      "metadata": {
        "id": "X_EUB3GbQdXK"
      },
      "source": [
        "#Eluvio Data Science Challenge\n",
        "\n",
        "* The goal of this NLP project is to classify if the title is a high rated news or not.\n",
        "\n",
        "* I will be using the columns up_votes and title from the dataset\n",
        "\n",
        "* The up_votes greater than quantile 0.5 are high rated i.e; 1 and those lesser than that are low rated news i.e; 0"
      ]
    },
    {
      "cell_type": "markdown",
      "metadata": {
        "id": "Otvo1K3fRK-G"
      },
      "source": [
        "## Mounting the drive"
      ]
    },
    {
      "cell_type": "code",
      "metadata": {
        "colab": {
          "base_uri": "https://localhost:8080/"
        },
        "id": "0S6rz0UIROhO",
        "outputId": "a909b3cd-ae7a-4c4f-ab30-3f69e77bf056"
      },
      "source": [
        "from google.colab import drive\n",
        "drive.mount('/content/drive')"
      ],
      "execution_count": 1,
      "outputs": [
        {
          "output_type": "stream",
          "text": [
            "Drive already mounted at /content/drive; to attempt to forcibly remount, call drive.mount(\"/content/drive\", force_remount=True).\n"
          ],
          "name": "stdout"
        }
      ]
    },
    {
      "cell_type": "markdown",
      "metadata": {
        "id": "3ZMFlI93SfY9"
      },
      "source": [
        "## Import the modules"
      ]
    },
    {
      "cell_type": "code",
      "metadata": {
        "id": "21XNB_mpSjRT"
      },
      "source": [
        "#modules for Tokenizer\n",
        "from sklearn.feature_extraction.text import TfidfVectorizer\n",
        "from sklearn.preprocessing import LabelEncoder\n",
        "#modules for plotting\n",
        "import matplotlib.pyplot as plt\n",
        "from tensorflow import keras\n",
        "#modules for math\n",
        "import pandas as pd\n",
        "import json\n",
        "import numpy as np\n",
        "#modules for modeling\n",
        "from sklearn.model_selection import train_test_split\n",
        "from sklearn.linear_model import LinearRegression\n",
        "from sklearn.metrics import mean_squared_error, mean_absolute_error"
      ],
      "execution_count": 2,
      "outputs": []
    },
    {
      "cell_type": "markdown",
      "metadata": {
        "id": "HxYcIz7TSqp3"
      },
      "source": [
        "## Read the data"
      ]
    },
    {
      "cell_type": "code",
      "metadata": {
        "colab": {
          "base_uri": "https://localhost:8080/",
          "height": 195
        },
        "id": "NmXVB0hzSsb_",
        "outputId": "009c7785-d60d-4272-e938-c244c81881ae"
      },
      "source": [
        "url = \"/content/drive/MyDrive/Eluvio- Data Science Intern/Data/Eluvio_DS_Challenge.csv\" \n",
        "df = pd.read_csv(url, header = 0) \n",
        "df = pd.DataFrame(df)\n",
        "df.head()"
      ],
      "execution_count": 13,
      "outputs": [
        {
          "output_type": "execute_result",
          "data": {
            "text/html": [
              "<div>\n",
              "<style scoped>\n",
              "    .dataframe tbody tr th:only-of-type {\n",
              "        vertical-align: middle;\n",
              "    }\n",
              "\n",
              "    .dataframe tbody tr th {\n",
              "        vertical-align: top;\n",
              "    }\n",
              "\n",
              "    .dataframe thead th {\n",
              "        text-align: right;\n",
              "    }\n",
              "</style>\n",
              "<table border=\"1\" class=\"dataframe\">\n",
              "  <thead>\n",
              "    <tr style=\"text-align: right;\">\n",
              "      <th></th>\n",
              "      <th>time_created</th>\n",
              "      <th>date_created</th>\n",
              "      <th>up_votes</th>\n",
              "      <th>down_votes</th>\n",
              "      <th>title</th>\n",
              "      <th>over_18</th>\n",
              "      <th>author</th>\n",
              "      <th>category</th>\n",
              "    </tr>\n",
              "  </thead>\n",
              "  <tbody>\n",
              "    <tr>\n",
              "      <th>0</th>\n",
              "      <td>1201232046</td>\n",
              "      <td>2008-01-25</td>\n",
              "      <td>3</td>\n",
              "      <td>0</td>\n",
              "      <td>Scores killed in Pakistan clashes</td>\n",
              "      <td>False</td>\n",
              "      <td>polar</td>\n",
              "      <td>worldnews</td>\n",
              "    </tr>\n",
              "    <tr>\n",
              "      <th>1</th>\n",
              "      <td>1201232075</td>\n",
              "      <td>2008-01-25</td>\n",
              "      <td>2</td>\n",
              "      <td>0</td>\n",
              "      <td>Japan resumes refuelling mission</td>\n",
              "      <td>False</td>\n",
              "      <td>polar</td>\n",
              "      <td>worldnews</td>\n",
              "    </tr>\n",
              "    <tr>\n",
              "      <th>2</th>\n",
              "      <td>1201232523</td>\n",
              "      <td>2008-01-25</td>\n",
              "      <td>3</td>\n",
              "      <td>0</td>\n",
              "      <td>US presses Egypt on Gaza border</td>\n",
              "      <td>False</td>\n",
              "      <td>polar</td>\n",
              "      <td>worldnews</td>\n",
              "    </tr>\n",
              "    <tr>\n",
              "      <th>3</th>\n",
              "      <td>1201233290</td>\n",
              "      <td>2008-01-25</td>\n",
              "      <td>1</td>\n",
              "      <td>0</td>\n",
              "      <td>Jump-start economy: Give health care to all</td>\n",
              "      <td>False</td>\n",
              "      <td>fadi420</td>\n",
              "      <td>worldnews</td>\n",
              "    </tr>\n",
              "    <tr>\n",
              "      <th>4</th>\n",
              "      <td>1201274720</td>\n",
              "      <td>2008-01-25</td>\n",
              "      <td>4</td>\n",
              "      <td>0</td>\n",
              "      <td>Council of Europe bashes EU&amp;UN terror blacklist</td>\n",
              "      <td>False</td>\n",
              "      <td>mhermans</td>\n",
              "      <td>worldnews</td>\n",
              "    </tr>\n",
              "  </tbody>\n",
              "</table>\n",
              "</div>"
            ],
            "text/plain": [
              "   time_created date_created  up_votes  ...  over_18    author   category\n",
              "0    1201232046   2008-01-25         3  ...    False     polar  worldnews\n",
              "1    1201232075   2008-01-25         2  ...    False     polar  worldnews\n",
              "2    1201232523   2008-01-25         3  ...    False     polar  worldnews\n",
              "3    1201233290   2008-01-25         1  ...    False   fadi420  worldnews\n",
              "4    1201274720   2008-01-25         4  ...    False  mhermans  worldnews\n",
              "\n",
              "[5 rows x 8 columns]"
            ]
          },
          "metadata": {
            "tags": []
          },
          "execution_count": 13
        }
      ]
    },
    {
      "cell_type": "code",
      "metadata": {
        "colab": {
          "base_uri": "https://localhost:8080/"
        },
        "id": "OSjmucpOY3Pa",
        "outputId": "f79560ea-f753-442a-921f-1a21266763e2"
      },
      "source": [
        "df.info()"
      ],
      "execution_count": 14,
      "outputs": [
        {
          "output_type": "stream",
          "text": [
            "<class 'pandas.core.frame.DataFrame'>\n",
            "RangeIndex: 509236 entries, 0 to 509235\n",
            "Data columns (total 8 columns):\n",
            " #   Column        Non-Null Count   Dtype \n",
            "---  ------        --------------   ----- \n",
            " 0   time_created  509236 non-null  int64 \n",
            " 1   date_created  509236 non-null  object\n",
            " 2   up_votes      509236 non-null  int64 \n",
            " 3   down_votes    509236 non-null  int64 \n",
            " 4   title         509236 non-null  object\n",
            " 5   over_18       509236 non-null  bool  \n",
            " 6   author        509236 non-null  object\n",
            " 7   category      509236 non-null  object\n",
            "dtypes: bool(1), int64(3), object(4)\n",
            "memory usage: 27.7+ MB\n"
          ],
          "name": "stdout"
        }
      ]
    },
    {
      "cell_type": "code",
      "metadata": {
        "colab": {
          "base_uri": "https://localhost:8080/"
        },
        "id": "s5nqK8HyTICp",
        "outputId": "0ea59d3a-d0a7-4cfb-a9b5-3a2a9659a72a"
      },
      "source": [
        "#check that no columns have null values\n",
        "df.isnull().sum()"
      ],
      "execution_count": 15,
      "outputs": [
        {
          "output_type": "execute_result",
          "data": {
            "text/plain": [
              "time_created    0\n",
              "date_created    0\n",
              "up_votes        0\n",
              "down_votes      0\n",
              "title           0\n",
              "over_18         0\n",
              "author          0\n",
              "category        0\n",
              "dtype: int64"
            ]
          },
          "metadata": {
            "tags": []
          },
          "execution_count": 15
        }
      ]
    },
    {
      "cell_type": "markdown",
      "metadata": {
        "id": "vz02_gNSsWD4"
      },
      "source": [
        "## Exploring Columns\n",
        "\n",
        "* The column 'category' has only one value - worldnews\n",
        "* The column 'down_votes' has all Zeros\n",
        "* Lets look at top 5 authors who received highest up_votes"
      ]
    },
    {
      "cell_type": "code",
      "metadata": {
        "colab": {
          "base_uri": "https://localhost:8080/",
          "height": 195
        },
        "id": "0_rCg688tCda",
        "outputId": "b142fdd6-3efb-4c66-adeb-234eb779f445"
      },
      "source": [
        "top5_authors = df.nlargest(5, ['up_votes'])\n",
        "top5_authors[['author','up_votes']].reset_index(drop=True)\n"
      ],
      "execution_count": 16,
      "outputs": [
        {
          "output_type": "execute_result",
          "data": {
            "text/html": [
              "<div>\n",
              "<style scoped>\n",
              "    .dataframe tbody tr th:only-of-type {\n",
              "        vertical-align: middle;\n",
              "    }\n",
              "\n",
              "    .dataframe tbody tr th {\n",
              "        vertical-align: top;\n",
              "    }\n",
              "\n",
              "    .dataframe thead th {\n",
              "        text-align: right;\n",
              "    }\n",
              "</style>\n",
              "<table border=\"1\" class=\"dataframe\">\n",
              "  <thead>\n",
              "    <tr style=\"text-align: right;\">\n",
              "      <th></th>\n",
              "      <th>author</th>\n",
              "      <th>up_votes</th>\n",
              "    </tr>\n",
              "  </thead>\n",
              "  <tbody>\n",
              "    <tr>\n",
              "      <th>0</th>\n",
              "      <td>KRISHNA53</td>\n",
              "      <td>21253</td>\n",
              "    </tr>\n",
              "    <tr>\n",
              "      <th>1</th>\n",
              "      <td>joeyoungblood</td>\n",
              "      <td>13435</td>\n",
              "    </tr>\n",
              "    <tr>\n",
              "      <th>2</th>\n",
              "      <td>mister_geaux</td>\n",
              "      <td>13244</td>\n",
              "    </tr>\n",
              "    <tr>\n",
              "      <th>3</th>\n",
              "      <td>navysealassulter</td>\n",
              "      <td>12333</td>\n",
              "    </tr>\n",
              "    <tr>\n",
              "      <th>4</th>\n",
              "      <td>seapiglet</td>\n",
              "      <td>11288</td>\n",
              "    </tr>\n",
              "  </tbody>\n",
              "</table>\n",
              "</div>"
            ],
            "text/plain": [
              "             author  up_votes\n",
              "0         KRISHNA53     21253\n",
              "1     joeyoungblood     13435\n",
              "2      mister_geaux     13244\n",
              "3  navysealassulter     12333\n",
              "4         seapiglet     11288"
            ]
          },
          "metadata": {
            "tags": []
          },
          "execution_count": 16
        }
      ]
    },
    {
      "cell_type": "markdown",
      "metadata": {
        "id": "Yd61U862uwe3"
      },
      "source": [
        "* Here are the 5 authors with highest up_votes\n",
        "  * KRISHNA53\n",
        "  * joeyoungblood\n",
        "  * mister_geaux\n",
        "  * navysealassulter\n",
        "  * seapiglet"
      ]
    },
    {
      "cell_type": "markdown",
      "metadata": {
        "id": "pJI0LrktW8mM"
      },
      "source": [
        "## Data Pre-processing"
      ]
    },
    {
      "cell_type": "markdown",
      "metadata": {
        "id": "6TCI95Kg4Sh1"
      },
      "source": [
        "* Since the columns **up_votes** and **title** have a strong correlation, we will classify the title into **high rated** and **low rated** based on up_votes.\n",
        "* The title with top 50 percentile of the up_votes is considered to be **high rated** and the other is **low rated**\n",
        "* The high rated group is labelled 1 and the low rated group is 0\n"
      ]
    },
    {
      "cell_type": "code",
      "metadata": {
        "colab": {
          "base_uri": "https://localhost:8080/",
          "height": 195
        },
        "id": "LkkdZZeYRDBO",
        "outputId": "b7f0716b-ba25-474c-c50f-f859215d8ae6"
      },
      "source": [
        "high_rate = np.quantile(df['up_votes'], 0.5)\n",
        "df['news_rating'] = np.where(df['up_votes']>= high_rate, 1, 0)\n",
        "df.head()"
      ],
      "execution_count": 17,
      "outputs": [
        {
          "output_type": "execute_result",
          "data": {
            "text/html": [
              "<div>\n",
              "<style scoped>\n",
              "    .dataframe tbody tr th:only-of-type {\n",
              "        vertical-align: middle;\n",
              "    }\n",
              "\n",
              "    .dataframe tbody tr th {\n",
              "        vertical-align: top;\n",
              "    }\n",
              "\n",
              "    .dataframe thead th {\n",
              "        text-align: right;\n",
              "    }\n",
              "</style>\n",
              "<table border=\"1\" class=\"dataframe\">\n",
              "  <thead>\n",
              "    <tr style=\"text-align: right;\">\n",
              "      <th></th>\n",
              "      <th>time_created</th>\n",
              "      <th>date_created</th>\n",
              "      <th>up_votes</th>\n",
              "      <th>down_votes</th>\n",
              "      <th>title</th>\n",
              "      <th>over_18</th>\n",
              "      <th>author</th>\n",
              "      <th>category</th>\n",
              "      <th>news_rating</th>\n",
              "    </tr>\n",
              "  </thead>\n",
              "  <tbody>\n",
              "    <tr>\n",
              "      <th>0</th>\n",
              "      <td>1201232046</td>\n",
              "      <td>2008-01-25</td>\n",
              "      <td>3</td>\n",
              "      <td>0</td>\n",
              "      <td>Scores killed in Pakistan clashes</td>\n",
              "      <td>False</td>\n",
              "      <td>polar</td>\n",
              "      <td>worldnews</td>\n",
              "      <td>0</td>\n",
              "    </tr>\n",
              "    <tr>\n",
              "      <th>1</th>\n",
              "      <td>1201232075</td>\n",
              "      <td>2008-01-25</td>\n",
              "      <td>2</td>\n",
              "      <td>0</td>\n",
              "      <td>Japan resumes refuelling mission</td>\n",
              "      <td>False</td>\n",
              "      <td>polar</td>\n",
              "      <td>worldnews</td>\n",
              "      <td>0</td>\n",
              "    </tr>\n",
              "    <tr>\n",
              "      <th>2</th>\n",
              "      <td>1201232523</td>\n",
              "      <td>2008-01-25</td>\n",
              "      <td>3</td>\n",
              "      <td>0</td>\n",
              "      <td>US presses Egypt on Gaza border</td>\n",
              "      <td>False</td>\n",
              "      <td>polar</td>\n",
              "      <td>worldnews</td>\n",
              "      <td>0</td>\n",
              "    </tr>\n",
              "    <tr>\n",
              "      <th>3</th>\n",
              "      <td>1201233290</td>\n",
              "      <td>2008-01-25</td>\n",
              "      <td>1</td>\n",
              "      <td>0</td>\n",
              "      <td>Jump-start economy: Give health care to all</td>\n",
              "      <td>False</td>\n",
              "      <td>fadi420</td>\n",
              "      <td>worldnews</td>\n",
              "      <td>0</td>\n",
              "    </tr>\n",
              "    <tr>\n",
              "      <th>4</th>\n",
              "      <td>1201274720</td>\n",
              "      <td>2008-01-25</td>\n",
              "      <td>4</td>\n",
              "      <td>0</td>\n",
              "      <td>Council of Europe bashes EU&amp;UN terror blacklist</td>\n",
              "      <td>False</td>\n",
              "      <td>mhermans</td>\n",
              "      <td>worldnews</td>\n",
              "      <td>0</td>\n",
              "    </tr>\n",
              "  </tbody>\n",
              "</table>\n",
              "</div>"
            ],
            "text/plain": [
              "   time_created date_created  up_votes  ...    author   category  news_rating\n",
              "0    1201232046   2008-01-25         3  ...     polar  worldnews            0\n",
              "1    1201232075   2008-01-25         2  ...     polar  worldnews            0\n",
              "2    1201232523   2008-01-25         3  ...     polar  worldnews            0\n",
              "3    1201233290   2008-01-25         1  ...   fadi420  worldnews            0\n",
              "4    1201274720   2008-01-25         4  ...  mhermans  worldnews            0\n",
              "\n",
              "[5 rows x 9 columns]"
            ]
          },
          "metadata": {
            "tags": []
          },
          "execution_count": 17
        }
      ]
    },
    {
      "cell_type": "code",
      "metadata": {
        "colab": {
          "base_uri": "https://localhost:8080/",
          "height": 195
        },
        "id": "8lHujYVR-_0S",
        "outputId": "91ffc566-b3cf-4340-d443-637751645b8e"
      },
      "source": [
        "#convert title to lower case\n",
        "df['title'] = df['title'].str.lower()\n",
        "df.head()"
      ],
      "execution_count": 18,
      "outputs": [
        {
          "output_type": "execute_result",
          "data": {
            "text/html": [
              "<div>\n",
              "<style scoped>\n",
              "    .dataframe tbody tr th:only-of-type {\n",
              "        vertical-align: middle;\n",
              "    }\n",
              "\n",
              "    .dataframe tbody tr th {\n",
              "        vertical-align: top;\n",
              "    }\n",
              "\n",
              "    .dataframe thead th {\n",
              "        text-align: right;\n",
              "    }\n",
              "</style>\n",
              "<table border=\"1\" class=\"dataframe\">\n",
              "  <thead>\n",
              "    <tr style=\"text-align: right;\">\n",
              "      <th></th>\n",
              "      <th>time_created</th>\n",
              "      <th>date_created</th>\n",
              "      <th>up_votes</th>\n",
              "      <th>down_votes</th>\n",
              "      <th>title</th>\n",
              "      <th>over_18</th>\n",
              "      <th>author</th>\n",
              "      <th>category</th>\n",
              "      <th>news_rating</th>\n",
              "    </tr>\n",
              "  </thead>\n",
              "  <tbody>\n",
              "    <tr>\n",
              "      <th>0</th>\n",
              "      <td>1201232046</td>\n",
              "      <td>2008-01-25</td>\n",
              "      <td>3</td>\n",
              "      <td>0</td>\n",
              "      <td>scores killed in pakistan clashes</td>\n",
              "      <td>False</td>\n",
              "      <td>polar</td>\n",
              "      <td>worldnews</td>\n",
              "      <td>0</td>\n",
              "    </tr>\n",
              "    <tr>\n",
              "      <th>1</th>\n",
              "      <td>1201232075</td>\n",
              "      <td>2008-01-25</td>\n",
              "      <td>2</td>\n",
              "      <td>0</td>\n",
              "      <td>japan resumes refuelling mission</td>\n",
              "      <td>False</td>\n",
              "      <td>polar</td>\n",
              "      <td>worldnews</td>\n",
              "      <td>0</td>\n",
              "    </tr>\n",
              "    <tr>\n",
              "      <th>2</th>\n",
              "      <td>1201232523</td>\n",
              "      <td>2008-01-25</td>\n",
              "      <td>3</td>\n",
              "      <td>0</td>\n",
              "      <td>us presses egypt on gaza border</td>\n",
              "      <td>False</td>\n",
              "      <td>polar</td>\n",
              "      <td>worldnews</td>\n",
              "      <td>0</td>\n",
              "    </tr>\n",
              "    <tr>\n",
              "      <th>3</th>\n",
              "      <td>1201233290</td>\n",
              "      <td>2008-01-25</td>\n",
              "      <td>1</td>\n",
              "      <td>0</td>\n",
              "      <td>jump-start economy: give health care to all</td>\n",
              "      <td>False</td>\n",
              "      <td>fadi420</td>\n",
              "      <td>worldnews</td>\n",
              "      <td>0</td>\n",
              "    </tr>\n",
              "    <tr>\n",
              "      <th>4</th>\n",
              "      <td>1201274720</td>\n",
              "      <td>2008-01-25</td>\n",
              "      <td>4</td>\n",
              "      <td>0</td>\n",
              "      <td>council of europe bashes eu&amp;un terror blacklist</td>\n",
              "      <td>False</td>\n",
              "      <td>mhermans</td>\n",
              "      <td>worldnews</td>\n",
              "      <td>0</td>\n",
              "    </tr>\n",
              "  </tbody>\n",
              "</table>\n",
              "</div>"
            ],
            "text/plain": [
              "   time_created date_created  up_votes  ...    author   category  news_rating\n",
              "0    1201232046   2008-01-25         3  ...     polar  worldnews            0\n",
              "1    1201232075   2008-01-25         2  ...     polar  worldnews            0\n",
              "2    1201232523   2008-01-25         3  ...     polar  worldnews            0\n",
              "3    1201233290   2008-01-25         1  ...   fadi420  worldnews            0\n",
              "4    1201274720   2008-01-25         4  ...  mhermans  worldnews            0\n",
              "\n",
              "[5 rows x 9 columns]"
            ]
          },
          "metadata": {
            "tags": []
          },
          "execution_count": 18
        }
      ]
    },
    {
      "cell_type": "code",
      "metadata": {
        "colab": {
          "base_uri": "https://localhost:8080/",
          "height": 195
        },
        "id": "WfhgoXV7_R1j",
        "outputId": "14cd8a8a-24f3-4e0e-d8c9-d1701db1dede"
      },
      "source": [
        "# replace any special characters with a blank\n",
        "df['title'] = df['title'].str.replace('[^A-z ]','').str.replace(' +',' ').str.strip()\n",
        "df.head()"
      ],
      "execution_count": 19,
      "outputs": [
        {
          "output_type": "execute_result",
          "data": {
            "text/html": [
              "<div>\n",
              "<style scoped>\n",
              "    .dataframe tbody tr th:only-of-type {\n",
              "        vertical-align: middle;\n",
              "    }\n",
              "\n",
              "    .dataframe tbody tr th {\n",
              "        vertical-align: top;\n",
              "    }\n",
              "\n",
              "    .dataframe thead th {\n",
              "        text-align: right;\n",
              "    }\n",
              "</style>\n",
              "<table border=\"1\" class=\"dataframe\">\n",
              "  <thead>\n",
              "    <tr style=\"text-align: right;\">\n",
              "      <th></th>\n",
              "      <th>time_created</th>\n",
              "      <th>date_created</th>\n",
              "      <th>up_votes</th>\n",
              "      <th>down_votes</th>\n",
              "      <th>title</th>\n",
              "      <th>over_18</th>\n",
              "      <th>author</th>\n",
              "      <th>category</th>\n",
              "      <th>news_rating</th>\n",
              "    </tr>\n",
              "  </thead>\n",
              "  <tbody>\n",
              "    <tr>\n",
              "      <th>0</th>\n",
              "      <td>1201232046</td>\n",
              "      <td>2008-01-25</td>\n",
              "      <td>3</td>\n",
              "      <td>0</td>\n",
              "      <td>scores killed in pakistan clashes</td>\n",
              "      <td>False</td>\n",
              "      <td>polar</td>\n",
              "      <td>worldnews</td>\n",
              "      <td>0</td>\n",
              "    </tr>\n",
              "    <tr>\n",
              "      <th>1</th>\n",
              "      <td>1201232075</td>\n",
              "      <td>2008-01-25</td>\n",
              "      <td>2</td>\n",
              "      <td>0</td>\n",
              "      <td>japan resumes refuelling mission</td>\n",
              "      <td>False</td>\n",
              "      <td>polar</td>\n",
              "      <td>worldnews</td>\n",
              "      <td>0</td>\n",
              "    </tr>\n",
              "    <tr>\n",
              "      <th>2</th>\n",
              "      <td>1201232523</td>\n",
              "      <td>2008-01-25</td>\n",
              "      <td>3</td>\n",
              "      <td>0</td>\n",
              "      <td>us presses egypt on gaza border</td>\n",
              "      <td>False</td>\n",
              "      <td>polar</td>\n",
              "      <td>worldnews</td>\n",
              "      <td>0</td>\n",
              "    </tr>\n",
              "    <tr>\n",
              "      <th>3</th>\n",
              "      <td>1201233290</td>\n",
              "      <td>2008-01-25</td>\n",
              "      <td>1</td>\n",
              "      <td>0</td>\n",
              "      <td>jumpstart economy give health care to all</td>\n",
              "      <td>False</td>\n",
              "      <td>fadi420</td>\n",
              "      <td>worldnews</td>\n",
              "      <td>0</td>\n",
              "    </tr>\n",
              "    <tr>\n",
              "      <th>4</th>\n",
              "      <td>1201274720</td>\n",
              "      <td>2008-01-25</td>\n",
              "      <td>4</td>\n",
              "      <td>0</td>\n",
              "      <td>council of europe bashes euun terror blacklist</td>\n",
              "      <td>False</td>\n",
              "      <td>mhermans</td>\n",
              "      <td>worldnews</td>\n",
              "      <td>0</td>\n",
              "    </tr>\n",
              "  </tbody>\n",
              "</table>\n",
              "</div>"
            ],
            "text/plain": [
              "   time_created date_created  up_votes  ...    author   category  news_rating\n",
              "0    1201232046   2008-01-25         3  ...     polar  worldnews            0\n",
              "1    1201232075   2008-01-25         2  ...     polar  worldnews            0\n",
              "2    1201232523   2008-01-25         3  ...     polar  worldnews            0\n",
              "3    1201233290   2008-01-25         1  ...   fadi420  worldnews            0\n",
              "4    1201274720   2008-01-25         4  ...  mhermans  worldnews            0\n",
              "\n",
              "[5 rows x 9 columns]"
            ]
          },
          "metadata": {
            "tags": []
          },
          "execution_count": 19
        }
      ]
    },
    {
      "cell_type": "markdown",
      "metadata": {
        "id": "1l0ZNhgsT8V8"
      },
      "source": [
        "* Lets look at a graph for the new column \"news_rating\" that we created based on up_votes\n",
        "* We have a balanced dataset for both the groups"
      ]
    },
    {
      "cell_type": "code",
      "metadata": {
        "colab": {
          "base_uri": "https://localhost:8080/"
        },
        "id": "OqJ-shkaUHPj",
        "outputId": "e12f7e84-bd33-4e20-9303-c06e65be6058"
      },
      "source": [
        "df['news_rating'].value_counts()"
      ],
      "execution_count": 20,
      "outputs": [
        {
          "output_type": "execute_result",
          "data": {
            "text/plain": [
              "1    258838\n",
              "0    250398\n",
              "Name: news_rating, dtype: int64"
            ]
          },
          "metadata": {
            "tags": []
          },
          "execution_count": 20
        }
      ]
    },
    {
      "cell_type": "code",
      "metadata": {
        "colab": {
          "base_uri": "https://localhost:8080/",
          "height": 331
        },
        "id": "RQPdDmsMTchq",
        "outputId": "74388379-1736-4fd1-b194-0bd27077cdc5"
      },
      "source": [
        "# plotting\n",
        "import seaborn as sns\n",
        "import matplotlib.pyplot as plt\n",
        "\n",
        "plt.figure(figsize=(10,5))\n",
        "ax = sns.countplot(x=\"news_rating\", data=df,\n",
        "                   order = df['news_rating'].value_counts().index)\n",
        "ax.set_xticklabels(ax.get_xticklabels(), rotation = 90)\n",
        "plt.show()"
      ],
      "execution_count": 21,
      "outputs": [
        {
          "output_type": "display_data",
          "data": {
            "image/png": "[encoded data removed]",
            "text/plain": [
              "<Figure size 720x360 with 1 Axes>"
            ]
          },
          "metadata": {
            "tags": [],
            "needs_background": "light"
          }
        }
      ]
    },
    {
      "cell_type": "markdown",
      "metadata": {
        "id": "ysANvciqLcqY"
      },
      "source": [
        "### Tokenizer\n",
        "\n",
        "* The tokenizer takes a given sentence and parses it into a list with individual words separated by a comma. This makes it easier for us to do some feature engineering"
      ]
    },
    {
      "cell_type": "markdown",
      "metadata": {
        "id": "FetGXJgi2b58"
      },
      "source": [
        "### Stop Words\n",
        "\n",
        "* I introduce stop words to improve the performance of the models and remove them from title\n",
        "\n",
        "* I downloaded the stopwords from nltk.corpus and extracted the stop words \n",
        "\n",
        "* I then applied these stop words to our data to see if the models behave any differently\n",
        "\n",
        "* I also created some EDA to observe top 20 words with their frequencies\n",
        "\n",
        "* I plotted frequency distribution graph and word cloud to visualy display the top words\n",
        "\n"
      ]
    },
    {
      "cell_type": "code",
      "metadata": {
        "colab": {
          "base_uri": "https://localhost:8080/"
        },
        "id": "AuIRPgP5gTSZ",
        "outputId": "abf7e26f-3583-4d84-b732-e98c44741032"
      },
      "source": [
        "# let's remove some of the stop words\n",
        "# define some stop words\n",
        "import nltk\n",
        "from nltk.corpus import stopwords\n",
        "\n",
        "nltk.download('stopwords') \n",
        "print(stopwords.words('english'))\n",
        "\n",
        "stop = stopwords.words('english') "
      ],
      "execution_count": 22,
      "outputs": [
        {
          "output_type": "stream",
          "text": [
            "[nltk_data] Downloading package stopwords to /root/nltk_data...\n",
            "[nltk_data]   Package stopwords is already up-to-date!\n",
            "['i', 'me', 'my', 'myself', 'we', 'our', 'ours', 'ourselves', 'you', \"you're\", \"you've\", \"you'll\", \"you'd\", 'your', 'yours', 'yourself', 'yourselves', 'he', 'him', 'his', 'himself', 'she', \"she's\", 'her', 'hers', 'herself', 'it', \"it's\", 'its', 'itself', 'they', 'them', 'their', 'theirs', 'themselves', 'what', 'which', 'who', 'whom', 'this', 'that', \"that'll\", 'these', 'those', 'am', 'is', 'are', 'was', 'were', 'be', 'been', 'being', 'have', 'has', 'had', 'having', 'do', 'does', 'did', 'doing', 'a', 'an', 'the', 'and', 'but', 'if', 'or', 'because', 'as', 'until', 'while', 'of', 'at', 'by', 'for', 'with', 'about', 'against', 'between', 'into', 'through', 'during', 'before', 'after', 'above', 'below', 'to', 'from', 'up', 'down', 'in', 'out', 'on', 'off', 'over', 'under', 'again', 'further', 'then', 'once', 'here', 'there', 'when', 'where', 'why', 'how', 'all', 'any', 'both', 'each', 'few', 'more', 'most', 'other', 'some', 'such', 'no', 'nor', 'not', 'only', 'own', 'same', 'so', 'than', 'too', 'very', 's', 't', 'can', 'will', 'just', 'don', \"don't\", 'should', \"should've\", 'now', 'd', 'll', 'm', 'o', 're', 've', 'y', 'ain', 'aren', \"aren't\", 'couldn', \"couldn't\", 'didn', \"didn't\", 'doesn', \"doesn't\", 'hadn', \"hadn't\", 'hasn', \"hasn't\", 'haven', \"haven't\", 'isn', \"isn't\", 'ma', 'mightn', \"mightn't\", 'mustn', \"mustn't\", 'needn', \"needn't\", 'shan', \"shan't\", 'shouldn', \"shouldn't\", 'wasn', \"wasn't\", 'weren', \"weren't\", 'won', \"won't\", 'wouldn', \"wouldn't\"]\n"
          ],
          "name": "stdout"
        }
      ]
    },
    {
      "cell_type": "code",
      "metadata": {
        "colab": {
          "base_uri": "https://localhost:8080/",
          "height": 195
        },
        "id": "1A6qP-ygicUI",
        "outputId": "f9f3ba15-b4ad-4111-edb3-3550eaec02df"
      },
      "source": [
        "df.head() # note how the stop words have been removed\n",
        "df[\"title\"] = df['title'].apply(lambda x: ' '.join([word for word in x.split() if word not in (stop)])) \n",
        "df.head()"
      ],
      "execution_count": 23,
      "outputs": [
        {
          "output_type": "execute_result",
          "data": {
            "text/html": [
              "<div>\n",
              "<style scoped>\n",
              "    .dataframe tbody tr th:only-of-type {\n",
              "        vertical-align: middle;\n",
              "    }\n",
              "\n",
              "    .dataframe tbody tr th {\n",
              "        vertical-align: top;\n",
              "    }\n",
              "\n",
              "    .dataframe thead th {\n",
              "        text-align: right;\n",
              "    }\n",
              "</style>\n",
              "<table border=\"1\" class=\"dataframe\">\n",
              "  <thead>\n",
              "    <tr style=\"text-align: right;\">\n",
              "      <th></th>\n",
              "      <th>time_created</th>\n",
              "      <th>date_created</th>\n",
              "      <th>up_votes</th>\n",
              "      <th>down_votes</th>\n",
              "      <th>title</th>\n",
              "      <th>over_18</th>\n",
              "      <th>author</th>\n",
              "      <th>category</th>\n",
              "      <th>news_rating</th>\n",
              "    </tr>\n",
              "  </thead>\n",
              "  <tbody>\n",
              "    <tr>\n",
              "      <th>0</th>\n",
              "      <td>1201232046</td>\n",
              "      <td>2008-01-25</td>\n",
              "      <td>3</td>\n",
              "      <td>0</td>\n",
              "      <td>scores killed pakistan clashes</td>\n",
              "      <td>False</td>\n",
              "      <td>polar</td>\n",
              "      <td>worldnews</td>\n",
              "      <td>0</td>\n",
              "    </tr>\n",
              "    <tr>\n",
              "      <th>1</th>\n",
              "      <td>1201232075</td>\n",
              "      <td>2008-01-25</td>\n",
              "      <td>2</td>\n",
              "      <td>0</td>\n",
              "      <td>japan resumes refuelling mission</td>\n",
              "      <td>False</td>\n",
              "      <td>polar</td>\n",
              "      <td>worldnews</td>\n",
              "      <td>0</td>\n",
              "    </tr>\n",
              "    <tr>\n",
              "      <th>2</th>\n",
              "      <td>1201232523</td>\n",
              "      <td>2008-01-25</td>\n",
              "      <td>3</td>\n",
              "      <td>0</td>\n",
              "      <td>us presses egypt gaza border</td>\n",
              "      <td>False</td>\n",
              "      <td>polar</td>\n",
              "      <td>worldnews</td>\n",
              "      <td>0</td>\n",
              "    </tr>\n",
              "    <tr>\n",
              "      <th>3</th>\n",
              "      <td>1201233290</td>\n",
              "      <td>2008-01-25</td>\n",
              "      <td>1</td>\n",
              "      <td>0</td>\n",
              "      <td>jumpstart economy give health care</td>\n",
              "      <td>False</td>\n",
              "      <td>fadi420</td>\n",
              "      <td>worldnews</td>\n",
              "      <td>0</td>\n",
              "    </tr>\n",
              "    <tr>\n",
              "      <th>4</th>\n",
              "      <td>1201274720</td>\n",
              "      <td>2008-01-25</td>\n",
              "      <td>4</td>\n",
              "      <td>0</td>\n",
              "      <td>council europe bashes euun terror blacklist</td>\n",
              "      <td>False</td>\n",
              "      <td>mhermans</td>\n",
              "      <td>worldnews</td>\n",
              "      <td>0</td>\n",
              "    </tr>\n",
              "  </tbody>\n",
              "</table>\n",
              "</div>"
            ],
            "text/plain": [
              "   time_created date_created  up_votes  ...    author   category  news_rating\n",
              "0    1201232046   2008-01-25         3  ...     polar  worldnews            0\n",
              "1    1201232075   2008-01-25         2  ...     polar  worldnews            0\n",
              "2    1201232523   2008-01-25         3  ...     polar  worldnews            0\n",
              "3    1201233290   2008-01-25         1  ...   fadi420  worldnews            0\n",
              "4    1201274720   2008-01-25         4  ...  mhermans  worldnews            0\n",
              "\n",
              "[5 rows x 9 columns]"
            ]
          },
          "metadata": {
            "tags": []
          },
          "execution_count": 23
        }
      ]
    },
    {
      "cell_type": "markdown",
      "metadata": {
        "id": "Y4iOOtXf9JIb"
      },
      "source": [
        "### EDA"
      ]
    },
    {
      "cell_type": "code",
      "metadata": {
        "colab": {
          "base_uri": "https://localhost:8080/"
        },
        "id": "KrAAGaEZ9LTq",
        "outputId": "98cd10d6-2f41-4ce4-8cdb-e18e1fd2c9a8"
      },
      "source": [
        "TopWords = df['title'].str.split(expand=True).stack().value_counts()\n",
        "TopWords[0:20]"
      ],
      "execution_count": 24,
      "outputs": [
        {
          "output_type": "execute_result",
          "data": {
            "text/plain": [
              "us            39583\n",
              "says          25395\n",
              "china         24481\n",
              "new           23312\n",
              "syria         18291\n",
              "russia        17413\n",
              "world         16598\n",
              "police        16555\n",
              "government    15171\n",
              "israel        15021\n",
              "iran          14887\n",
              "president     14575\n",
              "killed        14313\n",
              "people        13749\n",
              "attack        12803\n",
              "state         12502\n",
              "un            12306\n",
              "war           12299\n",
              "uk            11889\n",
              "military      11625\n",
              "dtype: int64"
            ]
          },
          "metadata": {
            "tags": []
          },
          "execution_count": 24
        }
      ]
    },
    {
      "cell_type": "code",
      "metadata": {
        "colab": {
          "base_uri": "https://localhost:8080/",
          "height": 195
        },
        "id": "0t2JE03V9QoJ",
        "outputId": "22f1d0c3-4251-4b6f-fe87-dcdcdcfc1837"
      },
      "source": [
        "# we can make a frequency plot \n",
        "# we'll group, then convert to pandas DataFrame for easy plotting\n",
        "x = df['title'].str.split(expand=True).stack().value_counts()\n",
        "x = pd.DataFrame(x)\n",
        "# reset the index\n",
        "x.reset_index(inplace=True)\n",
        "# rename the columns\n",
        "x.rename(columns={x.columns[0]:'word', x.columns[1]:'frequency'}, inplace=True)\n",
        "x.head()"
      ],
      "execution_count": 25,
      "outputs": [
        {
          "output_type": "execute_result",
          "data": {
            "text/html": [
              "<div>\n",
              "<style scoped>\n",
              "    .dataframe tbody tr th:only-of-type {\n",
              "        vertical-align: middle;\n",
              "    }\n",
              "\n",
              "    .dataframe tbody tr th {\n",
              "        vertical-align: top;\n",
              "    }\n",
              "\n",
              "    .dataframe thead th {\n",
              "        text-align: right;\n",
              "    }\n",
              "</style>\n",
              "<table border=\"1\" class=\"dataframe\">\n",
              "  <thead>\n",
              "    <tr style=\"text-align: right;\">\n",
              "      <th></th>\n",
              "      <th>word</th>\n",
              "      <th>frequency</th>\n",
              "    </tr>\n",
              "  </thead>\n",
              "  <tbody>\n",
              "    <tr>\n",
              "      <th>0</th>\n",
              "      <td>us</td>\n",
              "      <td>39583</td>\n",
              "    </tr>\n",
              "    <tr>\n",
              "      <th>1</th>\n",
              "      <td>says</td>\n",
              "      <td>25395</td>\n",
              "    </tr>\n",
              "    <tr>\n",
              "      <th>2</th>\n",
              "      <td>china</td>\n",
              "      <td>24481</td>\n",
              "    </tr>\n",
              "    <tr>\n",
              "      <th>3</th>\n",
              "      <td>new</td>\n",
              "      <td>23312</td>\n",
              "    </tr>\n",
              "    <tr>\n",
              "      <th>4</th>\n",
              "      <td>syria</td>\n",
              "      <td>18291</td>\n",
              "    </tr>\n",
              "  </tbody>\n",
              "</table>\n",
              "</div>"
            ],
            "text/plain": [
              "    word  frequency\n",
              "0     us      39583\n",
              "1   says      25395\n",
              "2  china      24481\n",
              "3    new      23312\n",
              "4  syria      18291"
            ]
          },
          "metadata": {
            "tags": []
          },
          "execution_count": 25
        }
      ]
    },
    {
      "cell_type": "code",
      "metadata": {
        "colab": {
          "base_uri": "https://localhost:8080/",
          "height": 359
        },
        "id": "_mwMSVwu9dL2",
        "outputId": "a4a2a94f-6ecd-4f35-f471-c938168270b9"
      },
      "source": [
        "# Frequency Distribution Plot\n",
        "# look at first X words\n",
        "x = x[0:20]\n",
        "x.plot(x='word', y='frequency')\n",
        "plt.xticks(np.arange(len(x)), x['word'], rotation=90)\n",
        "plt.suptitle('Top Words in News Title')\n",
        "plt.show()\n"
      ],
      "execution_count": 26,
      "outputs": [
        {
          "output_type": "display_data",
          "data": {
            "image/png": "[encoded data removed]",
            "text/plain": [
              "<Figure size 432x288 with 1 Axes>"
            ]
          },
          "metadata": {
            "tags": [],
            "needs_background": "light"
          }
        }
      ]
    },
    {
      "cell_type": "code",
      "metadata": {
        "colab": {
          "base_uri": "https://localhost:8080/",
          "height": 198
        },
        "id": "YbTU9iZG9hNr",
        "outputId": "ba07cba7-e8a7-4405-b131-0580a43e0525"
      },
      "source": [
        "from wordcloud import WordCloud\n",
        "\n",
        "# Generate a word cloud image\n",
        "wordcloud = WordCloud().generate(' '.join(df['title']))\n",
        "\n",
        "# Display the generated image:\n",
        "wordcloud = WordCloud(max_font_size=40).generate(' '.join(df['title']))\n",
        "plt.figure()\n",
        "plt.imshow(wordcloud, interpolation=\"bilinear\")\n",
        "plt.axis(\"off\")\n",
        "plt.show()"
      ],
      "execution_count": 27,
      "outputs": [
        {
          "output_type": "display_data",
          "data": {
            "image/png": "[encoded data removed]",
            "text/plain": [
              "<Figure size 432x288 with 1 Axes>"
            ]
          },
          "metadata": {
            "tags": [],
            "needs_background": "light"
          }
        }
      ]
    },
    {
      "cell_type": "markdown",
      "metadata": {
        "id": "fhR13szT2h5m"
      },
      "source": [
        "### Tokenize title"
      ]
    },
    {
      "cell_type": "code",
      "metadata": {
        "colab": {
          "base_uri": "https://localhost:8080/"
        },
        "id": "Cb854H4-pHdL",
        "outputId": "8f5e70dc-3eb8-4647-a300-2aa0b2b6ab28"
      },
      "source": [
        "# import\n",
        "nltk.download('punkt')\n",
        "from nltk.tokenize import word_tokenize\n"
      ],
      "execution_count": 28,
      "outputs": [
        {
          "output_type": "stream",
          "text": [
            "[nltk_data] Downloading package punkt to /root/nltk_data...\n",
            "[nltk_data]   Package punkt is already up-to-date!\n"
          ],
          "name": "stdout"
        }
      ]
    },
    {
      "cell_type": "code",
      "metadata": {
        "colab": {
          "base_uri": "https://localhost:8080/",
          "height": 195
        },
        "id": "o9tZWBMs8ANf",
        "outputId": "039b98f8-2927-4660-aaf2-cd6111ea1775"
      },
      "source": [
        "#tokenize title using nltk.word\n",
        "df['title'] = df.apply(lambda row: nltk.word_tokenize(row['title']), axis=1)\n",
        "df.head()"
      ],
      "execution_count": 29,
      "outputs": [
        {
          "output_type": "execute_result",
          "data": {
            "text/html": [
              "<div>\n",
              "<style scoped>\n",
              "    .dataframe tbody tr th:only-of-type {\n",
              "        vertical-align: middle;\n",
              "    }\n",
              "\n",
              "    .dataframe tbody tr th {\n",
              "        vertical-align: top;\n",
              "    }\n",
              "\n",
              "    .dataframe thead th {\n",
              "        text-align: right;\n",
              "    }\n",
              "</style>\n",
              "<table border=\"1\" class=\"dataframe\">\n",
              "  <thead>\n",
              "    <tr style=\"text-align: right;\">\n",
              "      <th></th>\n",
              "      <th>time_created</th>\n",
              "      <th>date_created</th>\n",
              "      <th>up_votes</th>\n",
              "      <th>down_votes</th>\n",
              "      <th>title</th>\n",
              "      <th>over_18</th>\n",
              "      <th>author</th>\n",
              "      <th>category</th>\n",
              "      <th>news_rating</th>\n",
              "    </tr>\n",
              "  </thead>\n",
              "  <tbody>\n",
              "    <tr>\n",
              "      <th>0</th>\n",
              "      <td>1201232046</td>\n",
              "      <td>2008-01-25</td>\n",
              "      <td>3</td>\n",
              "      <td>0</td>\n",
              "      <td>[scores, killed, pakistan, clashes]</td>\n",
              "      <td>False</td>\n",
              "      <td>polar</td>\n",
              "      <td>worldnews</td>\n",
              "      <td>0</td>\n",
              "    </tr>\n",
              "    <tr>\n",
              "      <th>1</th>\n",
              "      <td>1201232075</td>\n",
              "      <td>2008-01-25</td>\n",
              "      <td>2</td>\n",
              "      <td>0</td>\n",
              "      <td>[japan, resumes, refuelling, mission]</td>\n",
              "      <td>False</td>\n",
              "      <td>polar</td>\n",
              "      <td>worldnews</td>\n",
              "      <td>0</td>\n",
              "    </tr>\n",
              "    <tr>\n",
              "      <th>2</th>\n",
              "      <td>1201232523</td>\n",
              "      <td>2008-01-25</td>\n",
              "      <td>3</td>\n",
              "      <td>0</td>\n",
              "      <td>[us, presses, egypt, gaza, border]</td>\n",
              "      <td>False</td>\n",
              "      <td>polar</td>\n",
              "      <td>worldnews</td>\n",
              "      <td>0</td>\n",
              "    </tr>\n",
              "    <tr>\n",
              "      <th>3</th>\n",
              "      <td>1201233290</td>\n",
              "      <td>2008-01-25</td>\n",
              "      <td>1</td>\n",
              "      <td>0</td>\n",
              "      <td>[jumpstart, economy, give, health, care]</td>\n",
              "      <td>False</td>\n",
              "      <td>fadi420</td>\n",
              "      <td>worldnews</td>\n",
              "      <td>0</td>\n",
              "    </tr>\n",
              "    <tr>\n",
              "      <th>4</th>\n",
              "      <td>1201274720</td>\n",
              "      <td>2008-01-25</td>\n",
              "      <td>4</td>\n",
              "      <td>0</td>\n",
              "      <td>[council, europe, bashes, euun, terror, blackl...</td>\n",
              "      <td>False</td>\n",
              "      <td>mhermans</td>\n",
              "      <td>worldnews</td>\n",
              "      <td>0</td>\n",
              "    </tr>\n",
              "  </tbody>\n",
              "</table>\n",
              "</div>"
            ],
            "text/plain": [
              "   time_created date_created  up_votes  ...    author   category  news_rating\n",
              "0    1201232046   2008-01-25         3  ...     polar  worldnews            0\n",
              "1    1201232075   2008-01-25         2  ...     polar  worldnews            0\n",
              "2    1201232523   2008-01-25         3  ...     polar  worldnews            0\n",
              "3    1201233290   2008-01-25         1  ...   fadi420  worldnews            0\n",
              "4    1201274720   2008-01-25         4  ...  mhermans  worldnews            0\n",
              "\n",
              "[5 rows x 9 columns]"
            ]
          },
          "metadata": {
            "tags": []
          },
          "execution_count": 29
        }
      ]
    },
    {
      "cell_type": "markdown",
      "metadata": {
        "id": "lqpu7uBY2n4u"
      },
      "source": [
        "### Delete unwanted columns"
      ]
    },
    {
      "cell_type": "code",
      "metadata": {
        "id": "nWAeumvNj1aE"
      },
      "source": [
        "# delete the columns other than 'title' and 'news_rating'\n",
        "del df['author']\n",
        "del df['category']\n",
        "del df['date_created']\n",
        "del df['down_votes']\n",
        "del df['over_18']\n",
        "del df['time_created']\n",
        "del df['up_votes']"
      ],
      "execution_count": 30,
      "outputs": []
    },
    {
      "cell_type": "code",
      "metadata": {
        "colab": {
          "base_uri": "https://localhost:8080/",
          "height": 195
        },
        "id": "IZY1f1L2kEcS",
        "outputId": "874a59cd-db10-4487-915f-012de4fe66a0"
      },
      "source": [
        "df.head()"
      ],
      "execution_count": 31,
      "outputs": [
        {
          "output_type": "execute_result",
          "data": {
            "text/html": [
              "<div>\n",
              "<style scoped>\n",
              "    .dataframe tbody tr th:only-of-type {\n",
              "        vertical-align: middle;\n",
              "    }\n",
              "\n",
              "    .dataframe tbody tr th {\n",
              "        vertical-align: top;\n",
              "    }\n",
              "\n",
              "    .dataframe thead th {\n",
              "        text-align: right;\n",
              "    }\n",
              "</style>\n",
              "<table border=\"1\" class=\"dataframe\">\n",
              "  <thead>\n",
              "    <tr style=\"text-align: right;\">\n",
              "      <th></th>\n",
              "      <th>title</th>\n",
              "      <th>news_rating</th>\n",
              "    </tr>\n",
              "  </thead>\n",
              "  <tbody>\n",
              "    <tr>\n",
              "      <th>0</th>\n",
              "      <td>[scores, killed, pakistan, clashes]</td>\n",
              "      <td>0</td>\n",
              "    </tr>\n",
              "    <tr>\n",
              "      <th>1</th>\n",
              "      <td>[japan, resumes, refuelling, mission]</td>\n",
              "      <td>0</td>\n",
              "    </tr>\n",
              "    <tr>\n",
              "      <th>2</th>\n",
              "      <td>[us, presses, egypt, gaza, border]</td>\n",
              "      <td>0</td>\n",
              "    </tr>\n",
              "    <tr>\n",
              "      <th>3</th>\n",
              "      <td>[jumpstart, economy, give, health, care]</td>\n",
              "      <td>0</td>\n",
              "    </tr>\n",
              "    <tr>\n",
              "      <th>4</th>\n",
              "      <td>[council, europe, bashes, euun, terror, blackl...</td>\n",
              "      <td>0</td>\n",
              "    </tr>\n",
              "  </tbody>\n",
              "</table>\n",
              "</div>"
            ],
            "text/plain": [
              "                                               title  news_rating\n",
              "0                [scores, killed, pakistan, clashes]            0\n",
              "1              [japan, resumes, refuelling, mission]            0\n",
              "2                 [us, presses, egypt, gaza, border]            0\n",
              "3           [jumpstart, economy, give, health, care]            0\n",
              "4  [council, europe, bashes, euun, terror, blackl...            0"
            ]
          },
          "metadata": {
            "tags": []
          },
          "execution_count": 31
        }
      ]
    },
    {
      "cell_type": "markdown",
      "metadata": {
        "id": "A-ld3XLw9o7i"
      },
      "source": [
        "### Rejoin the words in title to prepare data for Modeling"
      ]
    },
    {
      "cell_type": "code",
      "metadata": {
        "colab": {
          "base_uri": "https://localhost:8080/"
        },
        "id": "mLztif8IqC2E",
        "outputId": "a7902b38-7b18-4d7f-df76-dbc01a8408e7"
      },
      "source": [
        "def rejoin_words(row):\n",
        "    my_list = row['title']\n",
        "    joined_words = ( \" \".join(my_list))\n",
        "    return joined_words\n",
        "\n",
        "df['title'] = df.apply(rejoin_words, axis=1)\n",
        "# here it is after - no square brackets and commas!\n",
        "df['title'].head()"
      ],
      "execution_count": 32,
      "outputs": [
        {
          "output_type": "execute_result",
          "data": {
            "text/plain": [
              "0                 scores killed pakistan clashes\n",
              "1               japan resumes refuelling mission\n",
              "2                   us presses egypt gaza border\n",
              "3             jumpstart economy give health care\n",
              "4    council europe bashes euun terror blacklist\n",
              "Name: title, dtype: object"
            ]
          },
          "metadata": {
            "tags": []
          },
          "execution_count": 32
        }
      ]
    },
    {
      "cell_type": "markdown",
      "metadata": {
        "id": "4Pirkv-_hK3N"
      },
      "source": [
        "## Splitting the data into X and y\n",
        "\n",
        "* Splitting the dataset into X and y\n",
        "* 80/20 split into train and test samples "
      ]
    },
    {
      "cell_type": "code",
      "metadata": {
        "id": "Nr9koxEekSAK"
      },
      "source": [
        "X = pd.DataFrame(df['title'])\n",
        "y = df['news_rating']"
      ],
      "execution_count": 33,
      "outputs": []
    },
    {
      "cell_type": "code",
      "metadata": {
        "colab": {
          "base_uri": "https://localhost:8080/",
          "height": 195
        },
        "id": "ONou9sjrn8qU",
        "outputId": "599a1bce-8748-4077-efa6-6cb90c2fb4e1"
      },
      "source": [
        "X.head()"
      ],
      "execution_count": 34,
      "outputs": [
        {
          "output_type": "execute_result",
          "data": {
            "text/html": [
              "<div>\n",
              "<style scoped>\n",
              "    .dataframe tbody tr th:only-of-type {\n",
              "        vertical-align: middle;\n",
              "    }\n",
              "\n",
              "    .dataframe tbody tr th {\n",
              "        vertical-align: top;\n",
              "    }\n",
              "\n",
              "    .dataframe thead th {\n",
              "        text-align: right;\n",
              "    }\n",
              "</style>\n",
              "<table border=\"1\" class=\"dataframe\">\n",
              "  <thead>\n",
              "    <tr style=\"text-align: right;\">\n",
              "      <th></th>\n",
              "      <th>title</th>\n",
              "    </tr>\n",
              "  </thead>\n",
              "  <tbody>\n",
              "    <tr>\n",
              "      <th>0</th>\n",
              "      <td>scores killed pakistan clashes</td>\n",
              "    </tr>\n",
              "    <tr>\n",
              "      <th>1</th>\n",
              "      <td>japan resumes refuelling mission</td>\n",
              "    </tr>\n",
              "    <tr>\n",
              "      <th>2</th>\n",
              "      <td>us presses egypt gaza border</td>\n",
              "    </tr>\n",
              "    <tr>\n",
              "      <th>3</th>\n",
              "      <td>jumpstart economy give health care</td>\n",
              "    </tr>\n",
              "    <tr>\n",
              "      <th>4</th>\n",
              "      <td>council europe bashes euun terror blacklist</td>\n",
              "    </tr>\n",
              "  </tbody>\n",
              "</table>\n",
              "</div>"
            ],
            "text/plain": [
              "                                         title\n",
              "0               scores killed pakistan clashes\n",
              "1             japan resumes refuelling mission\n",
              "2                 us presses egypt gaza border\n",
              "3           jumpstart economy give health care\n",
              "4  council europe bashes euun terror blacklist"
            ]
          },
          "metadata": {
            "tags": []
          },
          "execution_count": 34
        }
      ]
    },
    {
      "cell_type": "code",
      "metadata": {
        "colab": {
          "base_uri": "https://localhost:8080/"
        },
        "id": "eBGjERuum5NK",
        "outputId": "b35a4ca6-f3ea-4935-e22a-7b8e6975e4ef"
      },
      "source": [
        "print(X.shape)\n",
        "print(y.shape)"
      ],
      "execution_count": 35,
      "outputs": [
        {
          "output_type": "stream",
          "text": [
            "(509236, 1)\n",
            "(509236,)\n"
          ],
          "name": "stdout"
        }
      ]
    },
    {
      "cell_type": "code",
      "metadata": {
        "colab": {
          "base_uri": "https://localhost:8080/"
        },
        "id": "G5JC7ppfki62",
        "outputId": "8edefe1e-263a-47ed-fdbd-3938b645c319"
      },
      "source": [
        "from sklearn.feature_extraction.text import CountVectorizer\n",
        "from nltk.tokenize import RegexpTokenizer\n",
        "\n",
        "# get rid of garbage text\n",
        "token = RegexpTokenizer(r'[a-zA-Z0-9]+')\n",
        "\n",
        "#tokenizer to remove unwanted elements from out data like symbols and numbers\n",
        "cv = CountVectorizer(lowercase=True,\n",
        "                     stop_words='english',\n",
        "                     #using unigram\n",
        "                     ngram_range = (1,1), # (1,1) is unigram, (1,2) is uni and bigram, (2,2) is just bigram\n",
        "                     tokenizer = token.tokenize)\n",
        "text_counts= cv.fit_transform(X['title']) \n",
        "print(text_counts.shape)"
      ],
      "execution_count": 36,
      "outputs": [
        {
          "output_type": "stream",
          "text": [
            "(509236, 107179)\n"
          ],
          "name": "stdout"
        }
      ]
    },
    {
      "cell_type": "code",
      "metadata": {
        "colab": {
          "base_uri": "https://localhost:8080/"
        },
        "id": "40LG2GQlqWR5",
        "outputId": "3a8f3db1-6c5b-467b-cd7a-c0c42b248232"
      },
      "source": [
        "# inspect text_counts\n",
        "# check out the first row\n",
        "print(text_counts)\n",
        "np.sum(text_counts[1]) # number of entries"
      ],
      "execution_count": 37,
      "outputs": [
        {
          "output_type": "stream",
          "text": [
            "  (0, 84233)\t1\n",
            "  (0, 51361)\t1\n",
            "  (0, 69359)\t1\n",
            "  (0, 17998)\t1\n",
            "  (1, 48794)\t1\n",
            "  (1, 80160)\t1\n",
            "  (1, 78833)\t1\n",
            "  (1, 60729)\t1\n",
            "  (2, 74361)\t1\n",
            "  (2, 28748)\t1\n",
            "  (2, 37298)\t1\n",
            "  (2, 12115)\t1\n",
            "  (3, 49913)\t1\n",
            "  (3, 28419)\t1\n",
            "  (3, 41814)\t1\n",
            "  (3, 15144)\t1\n",
            "  (4, 20950)\t1\n",
            "  (4, 30929)\t1\n",
            "  (4, 9014)\t1\n",
            "  (4, 31033)\t1\n",
            "  (4, 94985)\t1\n",
            "  (4, 11059)\t1\n",
            "  (5, 41625)\t2\n",
            "  (5, 74404)\t1\n",
            "  (5, 33052)\t1\n",
            "  :\t:\n",
            "  (509232, 70947)\t1\n",
            "  (509232, 56313)\t1\n",
            "  (509232, 58341)\t1\n",
            "  (509232, 89679)\t1\n",
            "  (509233, 5660)\t1\n",
            "  (509233, 7600)\t1\n",
            "  (509233, 74928)\t1\n",
            "  (509233, 78183)\t1\n",
            "  (509233, 79892)\t1\n",
            "  (509234, 7043)\t1\n",
            "  (509234, 80070)\t1\n",
            "  (509234, 3536)\t1\n",
            "  (509234, 97987)\t1\n",
            "  (509234, 98594)\t1\n",
            "  (509234, 64978)\t1\n",
            "  (509234, 32996)\t1\n",
            "  (509235, 8589)\t1\n",
            "  (509235, 48088)\t1\n",
            "  (509235, 23390)\t1\n",
            "  (509235, 69487)\t1\n",
            "  (509235, 72841)\t1\n",
            "  (509235, 86798)\t1\n",
            "  (509235, 104023)\t1\n",
            "  (509235, 51775)\t1\n",
            "  (509235, 104429)\t1\n"
          ],
          "name": "stdout"
        },
        {
          "output_type": "execute_result",
          "data": {
            "text/plain": [
              "4"
            ]
          },
          "metadata": {
            "tags": []
          },
          "execution_count": 37
        }
      ]
    },
    {
      "cell_type": "code",
      "metadata": {
        "id": "9S5e12KKhMSp"
      },
      "source": [
        "# partition into 80/20 train and test samples \n",
        "X_train, X_test, y_train, y_test = train_test_split(text_counts, y, test_size=0.2, random_state=1)\n"
      ],
      "execution_count": 38,
      "outputs": []
    },
    {
      "cell_type": "code",
      "metadata": {
        "colab": {
          "base_uri": "https://localhost:8080/"
        },
        "id": "FAXxfMER-Kas",
        "outputId": "ac35b730-4caa-444d-f202-9d0b8a21d350"
      },
      "source": [
        "print(X_train.shape)\n",
        "print(y_train.shape)\n",
        "print(X_test.shape)\n",
        "print(y_test.shape)\n"
      ],
      "execution_count": 39,
      "outputs": [
        {
          "output_type": "stream",
          "text": [
            "(407388, 107179)\n",
            "(407388,)\n",
            "(101848, 107179)\n",
            "(101848,)\n"
          ],
          "name": "stdout"
        }
      ]
    },
    {
      "cell_type": "markdown",
      "metadata": {
        "id": "F1QfDcCN3We0"
      },
      "source": [
        "## Modeling"
      ]
    },
    {
      "cell_type": "markdown",
      "metadata": {
        "id": "vyRAS0i_3Y8s"
      },
      "source": [
        "### Decision Tree Classifier"
      ]
    },
    {
      "cell_type": "code",
      "metadata": {
        "colab": {
          "base_uri": "https://localhost:8080/"
        },
        "id": "Zv4_LZkajtlV",
        "outputId": "e7236022-e85a-4e26-c059-15f56bca3390"
      },
      "source": [
        "from sklearn.tree import DecisionTreeClassifier\n",
        "#Import scikit-learn metrics module for accuracy calculation\n",
        "from sklearn import metrics\n",
        "# Model Generation Using Decision Tree Classifier\n",
        "clf = DecisionTreeClassifier().fit(X_train, y_train)\n",
        "predicted= clf.predict(X_test)\n",
        "print(\"Decision Tree Classifier Accuracy:\",metrics.accuracy_score(y_test, predicted))"
      ],
      "execution_count": 40,
      "outputs": [
        {
          "output_type": "stream",
          "text": [
            "Decision Tree Classifier Accuracy: 0.5487687534364936\n"
          ],
          "name": "stdout"
        }
      ]
    },
    {
      "cell_type": "markdown",
      "metadata": {
        "id": "QJtK_QTk3Jyd"
      },
      "source": [
        "#### Evaluate the Model\n",
        "* Classification Report \n",
        "* Confusion Matrix"
      ]
    },
    {
      "cell_type": "code",
      "metadata": {
        "colab": {
          "base_uri": "https://localhost:8080/"
        },
        "id": "ir2UlFat3Ei6",
        "outputId": "5937bf01-8c39-4d9e-bd6d-3338770b7a1e"
      },
      "source": [
        "# classification report\n",
        "from sklearn.metrics import classification_report\n",
        "print(classification_report(y_test, predicted))"
      ],
      "execution_count": 41,
      "outputs": [
        {
          "output_type": "stream",
          "text": [
            "              precision    recall  f1-score   support\n",
            "\n",
            "           0       0.54      0.57      0.55     50009\n",
            "           1       0.56      0.53      0.55     51839\n",
            "\n",
            "    accuracy                           0.55    101848\n",
            "   macro avg       0.55      0.55      0.55    101848\n",
            "weighted avg       0.55      0.55      0.55    101848\n",
            "\n"
          ],
          "name": "stdout"
        }
      ]
    },
    {
      "cell_type": "code",
      "metadata": {
        "colab": {
          "base_uri": "https://localhost:8080/"
        },
        "id": "xgUuDJpB3GNx",
        "outputId": "635307ab-0ed2-4f8a-cfdd-8cd3cab0e0fb"
      },
      "source": [
        "# confusion matrix\n",
        "from sklearn.metrics import confusion_matrix\n",
        "confusion_matrix(y_test, predicted) "
      ],
      "execution_count": 42,
      "outputs": [
        {
          "output_type": "execute_result",
          "data": {
            "text/plain": [
              "array([[28259, 21750],\n",
              "       [24207, 27632]])"
            ]
          },
          "metadata": {
            "tags": []
          },
          "execution_count": 42
        }
      ]
    },
    {
      "cell_type": "markdown",
      "metadata": {
        "id": "sL6rBPy24G5T"
      },
      "source": [
        "### Logistic Regression"
      ]
    },
    {
      "cell_type": "code",
      "metadata": {
        "colab": {
          "base_uri": "https://localhost:8080/"
        },
        "id": "phCmHnejvbzP",
        "outputId": "8931ef31-8e4c-4b5e-aafe-6657bcf5ebfc"
      },
      "source": [
        "from sklearn.linear_model import LogisticRegression\n",
        "from sklearn.preprocessing import StandardScaler\n",
        "#Import scikit-learn metrics module for accuracy calculation\n",
        "from sklearn import metrics\n",
        "# Model Generation Using Logistic Regression\n",
        "clf = LogisticRegression(max_iter = 1000).fit(X_train,y_train)\n",
        "predicted= clf.predict(X_test)\n",
        "print(\"Logistic Regression Accuracy:\",metrics.accuracy_score(y_test, predicted))"
      ],
      "execution_count": 43,
      "outputs": [
        {
          "output_type": "stream",
          "text": [
            "Logistic Regression Accuracy: 0.5933449846830571\n"
          ],
          "name": "stdout"
        }
      ]
    },
    {
      "cell_type": "markdown",
      "metadata": {
        "id": "zjLw-rbg4LUy"
      },
      "source": [
        "#### Evaluate the Model\n",
        "* Classification Report \n",
        "* Confusion Matrix"
      ]
    },
    {
      "cell_type": "code",
      "metadata": {
        "colab": {
          "base_uri": "https://localhost:8080/"
        },
        "id": "s0kN9geW4Vpn",
        "outputId": "a463de5e-cd3c-45d9-cdb2-b3fce4628803"
      },
      "source": [
        "from sklearn import metrics\n",
        "from sklearn.metrics import accuracy_score\n",
        "\n",
        "#Classification_report\n",
        "classification_report = metrics.classification_report(y_test,predicted)\n",
        "print(classification_report)"
      ],
      "execution_count": 45,
      "outputs": [
        {
          "output_type": "stream",
          "text": [
            "              precision    recall  f1-score   support\n",
            "\n",
            "           0       0.58      0.61      0.59     50009\n",
            "           1       0.60      0.58      0.59     51839\n",
            "\n",
            "    accuracy                           0.59    101848\n",
            "   macro avg       0.59      0.59      0.59    101848\n",
            "weighted avg       0.59      0.59      0.59    101848\n",
            "\n"
          ],
          "name": "stdout"
        }
      ]
    },
    {
      "cell_type": "code",
      "metadata": {
        "colab": {
          "base_uri": "https://localhost:8080/"
        },
        "id": "UAJZOj104aID",
        "outputId": "e935ff0e-38d2-4a05-aa74-2b045e3042a4"
      },
      "source": [
        "#Confusion matrix\n",
        "confusion_matrix = metrics.confusion_matrix(y_test,predicted)\n",
        "print(confusion_matrix)\n",
        "\n",
        "# top left is TN\n",
        "# bottom left is FN\n",
        "# top right is FP\n",
        "# bottom right is TP"
      ],
      "execution_count": 46,
      "outputs": [
        {
          "output_type": "stream",
          "text": [
            "[[30396 19613]\n",
            " [21804 30035]]\n"
          ],
          "name": "stdout"
        }
      ]
    },
    {
      "cell_type": "markdown",
      "metadata": {
        "id": "9bdlMlbFSOv_"
      },
      "source": [
        "### Multinomial Naive Bayes"
      ]
    },
    {
      "cell_type": "code",
      "metadata": {
        "colab": {
          "base_uri": "https://localhost:8080/"
        },
        "id": "q3HtC-QcSSaM",
        "outputId": "a3c0577b-5fa6-4da8-c175-2688ce0e2ba8"
      },
      "source": [
        "from sklearn.naive_bayes import MultinomialNB\n",
        "clf = MultinomialNB().fit(X_train,y_train)\n",
        "predicted = clf.predict(X_test)\n",
        "print(\"Multinomial Naive Bayes Accuracy:\",metrics.accuracy_score(y_test, predicted))"
      ],
      "execution_count": 47,
      "outputs": [
        {
          "output_type": "stream",
          "text": [
            "Multinomial Naive Bayes Accuracy: 0.5849403031969209\n"
          ],
          "name": "stdout"
        }
      ]
    },
    {
      "cell_type": "markdown",
      "metadata": {
        "id": "Ev9Com8kSUhD"
      },
      "source": [
        "#### Evaluate the Model\n",
        "* Classification Report \n",
        "* Confusion Matrix"
      ]
    },
    {
      "cell_type": "code",
      "metadata": {
        "colab": {
          "base_uri": "https://localhost:8080/"
        },
        "id": "gUeFnzlySf0A",
        "outputId": "fc428e47-4308-4544-9573-69080ecb4ddd"
      },
      "source": [
        "# classification report\n",
        "from sklearn.metrics import classification_report\n",
        "print(classification_report(y_test, predicted))"
      ],
      "execution_count": 48,
      "outputs": [
        {
          "output_type": "stream",
          "text": [
            "              precision    recall  f1-score   support\n",
            "\n",
            "           0       0.58      0.57      0.58     50009\n",
            "           1       0.59      0.59      0.59     51839\n",
            "\n",
            "    accuracy                           0.58    101848\n",
            "   macro avg       0.58      0.58      0.58    101848\n",
            "weighted avg       0.58      0.58      0.58    101848\n",
            "\n"
          ],
          "name": "stdout"
        }
      ]
    },
    {
      "cell_type": "code",
      "metadata": {
        "colab": {
          "base_uri": "https://localhost:8080/"
        },
        "id": "47gXD0x5Sk0e",
        "outputId": "ef1febf4-9d5b-471b-daa4-fc3e1077f1eb"
      },
      "source": [
        "# confusion matrix\n",
        "from sklearn.metrics import confusion_matrix\n",
        "confusion_matrix(y_test, predicted) "
      ],
      "execution_count": 49,
      "outputs": [
        {
          "output_type": "execute_result",
          "data": {
            "text/plain": [
              "array([[28739, 21270],\n",
              "       [21003, 30836]])"
            ]
          },
          "metadata": {
            "tags": []
          },
          "execution_count": 49
        }
      ]
    },
    {
      "cell_type": "markdown",
      "metadata": {
        "id": "SknOFkVIB_zH"
      },
      "source": [
        "## Create features for Modeling using TF-IDF method\n",
        "\n",
        "* Since the models are not performing that well, I wanted to see if TF-IDF method to create the features would improve the performance of the models\n",
        "* TF-IDF is a numerical statistic that is intended to reflect how important a word is to a document in a collection or corpus.\n",
        "* TF(w) = (Number of times term w appears in a document) / (Total number of terms in the document)\n",
        "* IDF(w) = log_e(Total number of documents / Number of documents with term w in it)\n",
        "*TF-IDF (term frequency, inverse document frequency) is the product of these two quantities\n",
        "* TF-IDF(Term Frequency-Inverse Document Frequency) normalizes the document term matrix. It is the product of TF and IDF. Word with high tf-idf in a document, it is most of the times occurred in given documents and must be absent in the other documents. So the words must be a signature word.\n"
      ]
    },
    {
      "cell_type": "code",
      "metadata": {
        "id": "jbwOBVPNMKXt"
      },
      "source": [
        "# create the matrix\n",
        "from sklearn.feature_extraction.text import TfidfVectorizer\n",
        "tf=TfidfVectorizer()\n",
        "text_tf= tf.fit_transform(X['title'])"
      ],
      "execution_count": 50,
      "outputs": []
    },
    {
      "cell_type": "code",
      "metadata": {
        "colab": {
          "base_uri": "https://localhost:8080/"
        },
        "id": "0lXTE_47MS-9",
        "outputId": "790e3a32-1419-463a-8842-ee1ef7e96271"
      },
      "source": [
        "# check out what you did\n",
        "text_tf.shape "
      ],
      "execution_count": 51,
      "outputs": [
        {
          "output_type": "execute_result",
          "data": {
            "text/plain": [
              "(509236, 107441)"
            ]
          },
          "metadata": {
            "tags": []
          },
          "execution_count": 51
        }
      ]
    },
    {
      "cell_type": "code",
      "metadata": {
        "colab": {
          "base_uri": "https://localhost:8080/"
        },
        "id": "6IycHcF7MXkH",
        "outputId": "c261cd29-928b-4fd0-b039-a5dc7b875572"
      },
      "source": [
        "print(text_tf[0])"
      ],
      "execution_count": 52,
      "outputs": [
        {
          "output_type": "stream",
          "text": [
            "  (0, 18057)\t0.531470789910242\n",
            "  (0, 69525)\t0.4199903049291642\n",
            "  (0, 51482)\t0.3716004284523815\n",
            "  (0, 84404)\t0.6348701164897411\n"
          ],
          "name": "stdout"
        }
      ]
    },
    {
      "cell_type": "code",
      "metadata": {
        "id": "3Xwrr0dMMh5H"
      },
      "source": [
        "# split the data\n",
        "from sklearn.model_selection import train_test_split\n",
        "X_train, X_test, y_train, y_test = train_test_split(text_tf, y, \n",
        "                                                    test_size=0.2, random_state=123)"
      ],
      "execution_count": 53,
      "outputs": []
    },
    {
      "cell_type": "markdown",
      "metadata": {
        "id": "yKYkDxwwcC0T"
      },
      "source": [
        "### Decision Tree Classifier"
      ]
    },
    {
      "cell_type": "code",
      "metadata": {
        "colab": {
          "base_uri": "https://localhost:8080/"
        },
        "id": "OCAhpgcBMoeA",
        "outputId": "a3bf9825-98da-4e9a-fa21-2fc5723a886d"
      },
      "source": [
        "# fit a model\n",
        "from sklearn.tree import DecisionTreeClassifier\n",
        "from sklearn import metrics\n",
        "# Model Generation Using Multinomial Naive Bayes\n",
        "clf = DecisionTreeClassifier().fit(X_train, y_train)\n",
        "predicted= clf.predict(X_test)\n",
        "print(\"Decision Tree Classifier Accuracy:\",metrics.accuracy_score(y_test, predicted))\n"
      ],
      "execution_count": 66,
      "outputs": [
        {
          "output_type": "stream",
          "text": [
            "Decision Tree Classifier Accuracy: 0.5419644961118529\n"
          ],
          "name": "stdout"
        }
      ]
    },
    {
      "cell_type": "markdown",
      "metadata": {
        "id": "mXxZhohgcJ8O"
      },
      "source": [
        "####Evaluate the Model\n",
        "* Classification Report\n",
        "* Confusion Matrix"
      ]
    },
    {
      "cell_type": "code",
      "metadata": {
        "colab": {
          "base_uri": "https://localhost:8080/"
        },
        "id": "PfhXHjMUca1j",
        "outputId": "d6627371-ffda-4766-f14a-c823122e874c"
      },
      "source": [
        "# classification report\n",
        "from sklearn.metrics import classification_report\n",
        "print(classification_report(y_test, predicted))"
      ],
      "execution_count": 67,
      "outputs": [
        {
          "output_type": "stream",
          "text": [
            "              precision    recall  f1-score   support\n",
            "\n",
            "           0       0.53      0.55      0.54     49989\n",
            "           1       0.55      0.54      0.54     51859\n",
            "\n",
            "    accuracy                           0.54    101848\n",
            "   macro avg       0.54      0.54      0.54    101848\n",
            "weighted avg       0.54      0.54      0.54    101848\n",
            "\n"
          ],
          "name": "stdout"
        }
      ]
    },
    {
      "cell_type": "code",
      "metadata": {
        "colab": {
          "base_uri": "https://localhost:8080/"
        },
        "id": "Y8wz1QBTcb02",
        "outputId": "ff339948-cf7a-4670-b412-baa47f3a860a"
      },
      "source": [
        "# confusion matrix\n",
        "from sklearn.metrics import confusion_matrix\n",
        "confusion_matrix(y_test, predicted) "
      ],
      "execution_count": 68,
      "outputs": [
        {
          "output_type": "execute_result",
          "data": {
            "text/plain": [
              "array([[27280, 22709],\n",
              "       [23941, 27918]])"
            ]
          },
          "metadata": {
            "tags": []
          },
          "execution_count": 68
        }
      ]
    },
    {
      "cell_type": "markdown",
      "metadata": {
        "id": "GIUz_yQ-cmYT"
      },
      "source": [
        "### Logistic Regression"
      ]
    },
    {
      "cell_type": "code",
      "metadata": {
        "colab": {
          "base_uri": "https://localhost:8080/"
        },
        "id": "taQmFrHOctUi",
        "outputId": "825a9cd0-f2ef-4816-c2e4-8704862756ba"
      },
      "source": [
        "from sklearn.linear_model import LogisticRegression\n",
        "from sklearn.preprocessing import StandardScaler\n",
        "#Import scikit-learn metrics module for accuracy calculation\n",
        "from sklearn import metrics\n",
        "# Model Generation Using Logistic Regression\n",
        "clf = LogisticRegression(max_iter = 1000).fit(X_train,y_train)\n",
        "predicted= clf.predict(X_test)\n",
        "print(\"Logistic Regression Accuracy:\",metrics.accuracy_score(y_test, predicted))"
      ],
      "execution_count": 63,
      "outputs": [
        {
          "output_type": "stream",
          "text": [
            "Logistic Regression Accuracy: 0.6043515827507658\n"
          ],
          "name": "stdout"
        }
      ]
    },
    {
      "cell_type": "markdown",
      "metadata": {
        "id": "W3lRQZYkcuVo"
      },
      "source": [
        "#### Evaluate the Model\n",
        "* Classification Report \n",
        "* Confusion Matrix"
      ]
    },
    {
      "cell_type": "code",
      "metadata": {
        "colab": {
          "base_uri": "https://localhost:8080/"
        },
        "id": "QF44pQWgczZQ",
        "outputId": "595d43bd-42b4-4070-ee22-0e0c27d0a3a4"
      },
      "source": [
        "from sklearn import metrics\n",
        "from sklearn.metrics import accuracy_score\n",
        "\n",
        "#Classification_report\n",
        "classification_report = metrics.classification_report(y_test,predicted)\n",
        "print(classification_report)"
      ],
      "execution_count": 64,
      "outputs": [
        {
          "output_type": "stream",
          "text": [
            "              precision    recall  f1-score   support\n",
            "\n",
            "           0       0.60      0.59      0.59     49989\n",
            "           1       0.61      0.62      0.61     51859\n",
            "\n",
            "    accuracy                           0.60    101848\n",
            "   macro avg       0.60      0.60      0.60    101848\n",
            "weighted avg       0.60      0.60      0.60    101848\n",
            "\n"
          ],
          "name": "stdout"
        }
      ]
    },
    {
      "cell_type": "code",
      "metadata": {
        "colab": {
          "base_uri": "https://localhost:8080/"
        },
        "id": "89z14zbkc0F4",
        "outputId": "8a8f9a8a-f6ff-4b3e-b779-4c911bdd45c0"
      },
      "source": [
        "#Confusion matrix\n",
        "confusion_matrix = metrics.confusion_matrix(y_test,predicted)\n",
        "print(confusion_matrix)\n",
        "\n",
        "# top left is TN\n",
        "# bottom left is FN\n",
        "# top right is FP\n",
        "# bottom right is TP"
      ],
      "execution_count": 65,
      "outputs": [
        {
          "output_type": "stream",
          "text": [
            "[[29507 20482]\n",
            " [19814 32045]]\n"
          ],
          "name": "stdout"
        }
      ]
    },
    {
      "cell_type": "markdown",
      "metadata": {
        "id": "vETssABmc6iN"
      },
      "source": [
        "### Multinomial Naive Bayes"
      ]
    },
    {
      "cell_type": "code",
      "metadata": {
        "colab": {
          "base_uri": "https://localhost:8080/"
        },
        "id": "buXoTs3yc_S1",
        "outputId": "b6f24cdd-9a12-4d68-93c9-a49fae56fe82"
      },
      "source": [
        "from sklearn.naive_bayes import MultinomialNB\n",
        "clf = MultinomialNB().fit(X_train,y_train)\n",
        "predicted = clf.predict(X_test)\n",
        "print(\"Multinomial Naive Bayes Accuracy:\",metrics.accuracy_score(y_test, predicted))"
      ],
      "execution_count": 58,
      "outputs": [
        {
          "output_type": "stream",
          "text": [
            "Multinomial Naive Bayes Accuracy: 0.5865800015709685\n"
          ],
          "name": "stdout"
        }
      ]
    },
    {
      "cell_type": "markdown",
      "metadata": {
        "id": "NKQuwDMTdDsy"
      },
      "source": [
        "#### Evaluate the Model\n",
        "* Classification Report \n",
        "* Confusion Matrix"
      ]
    },
    {
      "cell_type": "code",
      "metadata": {
        "colab": {
          "base_uri": "https://localhost:8080/"
        },
        "id": "3nNM6YQydEeI",
        "outputId": "8ca40b32-8280-49dd-c2bf-66ac273e6d22"
      },
      "source": [
        "# classification report\n",
        "from sklearn.metrics import classification_report\n",
        "print(classification_report(y_test, predicted))"
      ],
      "execution_count": 59,
      "outputs": [
        {
          "output_type": "stream",
          "text": [
            "              precision    recall  f1-score   support\n",
            "\n",
            "           0       0.59      0.50      0.54     49989\n",
            "           1       0.58      0.67      0.62     51859\n",
            "\n",
            "    accuracy                           0.59    101848\n",
            "   macro avg       0.59      0.58      0.58    101848\n",
            "weighted avg       0.59      0.59      0.58    101848\n",
            "\n"
          ],
          "name": "stdout"
        }
      ]
    },
    {
      "cell_type": "code",
      "metadata": {
        "colab": {
          "base_uri": "https://localhost:8080/"
        },
        "id": "-B77mutUdFMc",
        "outputId": "a5f23943-56d7-44fc-cf3b-00a38e10944c"
      },
      "source": [
        "# confusion matrix\n",
        "from sklearn.metrics import confusion_matrix\n",
        "confusion_matrix(y_test, predicted) "
      ],
      "execution_count": 60,
      "outputs": [
        {
          "output_type": "execute_result",
          "data": {
            "text/plain": [
              "array([[24766, 25223],\n",
              "       [16883, 34976]])"
            ]
          },
          "metadata": {
            "tags": []
          },
          "execution_count": 60
        }
      ]
    },
    {
      "cell_type": "markdown",
      "metadata": {
        "id": "RNP61T4o32Zx"
      },
      "source": [
        "## Model Comparison\n",
        "\n",
        "**Model**                                     |    **Accuracy**        |\n",
        "----------------------------------------------|------------------------|\n",
        "**Model 1: Decision Tree Classifier**         |      0.5488            |\n",
        "**Model 2: Logistic Regression**              |      0.5933            |\n",
        "**Model 3: Multinomial Naive Bayes**          |      0.5850            |\n",
        "**Model 4: Decision Tree Classifier(TF-IDF)** |      0.5420            |\n",
        "**Model 5: Logistic Regression(TF-IDF)**      |      0.6044            |\n",
        "**Model 6: Multinomial Naive Bayes(TF-IDF)**  |      0.5866            |\n",
        "\n"
      ]
    },
    {
      "cell_type": "markdown",
      "metadata": {
        "id": "WzIacK9Q14LB"
      },
      "source": [
        "I decided the best model based on Accuracy, Complexity and Explanability\n",
        "\n",
        "### Accuracy\n",
        "Top 3 models based on Accuracy are as follows:\n",
        "\n",
        "**Model**                                     |    **Accuracy**        |\n",
        "----------------------------------------------|------------------------|\n",
        "**Model 5: Logistic Regression(TF-IDF)**      |      0.6044            |\n",
        "**Model 2: Logistic Regression**              |      0.5933            |\n",
        "**Model 6: Multinomial Naive Bayes(TF-IDF)**  |      0.5866            |\n",
        "\n",
        "\n"
      ]
    },
    {
      "cell_type": "markdown",
      "metadata": {
        "id": "j7vVRiv23gNv"
      },
      "source": [
        "### Complexity\n",
        "* I used two methods for feature extraction- Tokenizer and TF-IDF.\n",
        "Logistic Regression with TF-IDF method for creating features performed the best with 60.44% accuracy rate followed by Logistic Regression with Tokenizer and Multinomial Naive Bayes (TF-IDF) with an accuracy of 59.33% and 58.66% respectively.\n",
        "* Overall, I observed that TF-IDF method of creating features for models yielded better accuracy rates. However, Decision Tree Classifier performed better with Tokenizer method with an accuracy of 54.88%.\n",
        "* I also noticed that Decision Tree Classifier models took longer to run when compared to Logistic Regression and Multinomial Naive Bayes models, making the other two more attractive and time consuming.\n"
      ]
    },
    {
      "cell_type": "markdown",
      "metadata": {
        "id": "y4dJxWTr4Z6p"
      },
      "source": [
        "## Conclusion\n",
        "* As the dataset is large, I used the power of Tokenizer that makes it easier for feature engineering.\n",
        "* I also used TF-IDF method which is a glorified form of feature engineering to create features for modeling.\n",
        "* I got the best model when I used TF-IDF method on Logistic Regression with max_iterations = 1000 which gave an accuracy rate of 60.44%\n",
        "* Overall, the models had better performance when TF-IDF method was used for feature engineering\n",
        "* The title is the best column to classify if the news has received more number of up_votes or not. "
      ]
    }
  ]
}